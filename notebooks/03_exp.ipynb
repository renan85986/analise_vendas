{
 "cells": [
  {
   "cell_type": "code",
   "execution_count": 8,
   "id": "2b8fbc5a-e4bc-4e73-ac0b-712db0df7c40",
   "metadata": {},
   "outputs": [
    {
     "name": "stdout",
     "output_type": "stream",
     "text": [
      "(99441, 8)\n",
      "                           order_id                       customer_id  \\\n",
      "0  e481f51cbdc54678b7cc49136f2d6af7  9ef432eb6251297304e76186b10a928d   \n",
      "1  53cdb2fc8bc7dce0b6741e2150273451  b0830fb4747a6c6d20dea0b8c802d7ef   \n",
      "2  47770eb9100c2d0c44946d9cf07ec65d  41ce2a54c0b03bf3443c3d931a367089   \n",
      "3  949d5b44dbf5de918fe9c16f97b45f8a  f88197465ea7920adcdbec7375364d82   \n",
      "4  ad21c59c0840e6cb83a9ceb5573f8159  8ab97904e6daea8866dbdbc4fb7aad2c   \n",
      "\n",
      "  order_status order_purchase_timestamp   order_approved_at  \\\n",
      "0    delivered      2017-10-02 10:56:33 2017-10-02 11:07:15   \n",
      "1    delivered      2018-07-24 20:41:37 2018-07-26 03:24:27   \n",
      "2    delivered      2018-08-08 08:38:49 2018-08-08 08:55:23   \n",
      "3    delivered      2017-11-18 19:28:06 2017-11-18 19:45:59   \n",
      "4    delivered      2018-02-13 21:18:39 2018-02-13 22:20:29   \n",
      "\n",
      "  order_delivered_carrier_date order_delivered_customer_date  \\\n",
      "0          2017-10-04 19:55:00           2017-10-10 21:25:13   \n",
      "1          2018-07-26 14:31:00           2018-08-07 15:27:45   \n",
      "2          2018-08-08 13:50:00           2018-08-17 18:06:29   \n",
      "3          2017-11-22 13:39:59           2017-12-02 00:28:42   \n",
      "4          2018-02-14 19:46:34           2018-02-16 18:17:02   \n",
      "\n",
      "  order_estimated_delivery_date  \n",
      "0                    2017-10-18  \n",
      "1                    2018-08-13  \n",
      "2                    2018-09-04  \n",
      "3                    2017-12-15  \n",
      "4                    2018-02-26  \n",
      "<class 'pandas.core.frame.DataFrame'>\n",
      "RangeIndex: 99441 entries, 0 to 99440\n",
      "Data columns (total 8 columns):\n",
      " #   Column                         Non-Null Count  Dtype         \n",
      "---  ------                         --------------  -----         \n",
      " 0   order_id                       99441 non-null  object        \n",
      " 1   customer_id                    99441 non-null  object        \n",
      " 2   order_status                   99441 non-null  object        \n",
      " 3   order_purchase_timestamp       99441 non-null  datetime64[ns]\n",
      " 4   order_approved_at              99281 non-null  datetime64[ns]\n",
      " 5   order_delivered_carrier_date   97658 non-null  datetime64[ns]\n",
      " 6   order_delivered_customer_date  96476 non-null  datetime64[ns]\n",
      " 7   order_estimated_delivery_date  99441 non-null  datetime64[ns]\n",
      "dtypes: datetime64[ns](5), object(3)\n",
      "memory usage: 6.1+ MB\n",
      "None\n",
      "            order_purchase_timestamp              order_approved_at  \\\n",
      "count                          99441                          99281   \n",
      "mean   2017-12-31 08:43:12.776581120  2017-12-31 18:35:24.098800128   \n",
      "min              2016-09-04 21:15:19            2016-09-15 12:16:38   \n",
      "25%              2017-09-12 14:46:19            2017-09-12 23:24:16   \n",
      "50%              2018-01-18 23:04:36            2018-01-19 11:36:13   \n",
      "75%              2018-05-04 15:42:16            2018-05-04 20:35:10   \n",
      "max              2018-10-17 17:30:18            2018-09-03 17:40:06   \n",
      "\n",
      "        order_delivered_carrier_date  order_delivered_customer_date  \\\n",
      "count                          97658                          96476   \n",
      "mean   2018-01-04 21:49:48.138278656  2018-01-14 12:09:19.035542272   \n",
      "min              2016-10-08 10:34:01            2016-10-11 13:46:32   \n",
      "25%    2017-09-15 22:28:50.249999872  2017-09-25 22:07:22.249999872   \n",
      "50%              2018-01-24 16:10:58     2018-02-02 19:28:10.500000   \n",
      "75%              2018-05-08 13:37:45  2018-05-15 22:48:52.249999872   \n",
      "max              2018-09-11 19:48:28            2018-10-17 13:22:46   \n",
      "\n",
      "       order_estimated_delivery_date  \n",
      "count                          99441  \n",
      "mean   2018-01-24 03:08:37.730111232  \n",
      "min              2016-09-30 00:00:00  \n",
      "25%              2017-10-03 00:00:00  \n",
      "50%              2018-02-15 00:00:00  \n",
      "75%              2018-05-25 00:00:00  \n",
      "max              2018-11-12 00:00:00  \n"
     ]
    }
   ],
   "source": [
    "import pandas as pd\n",
    "from config import engine\n",
    "\n",
    "df_orders = pd.read_sql(\"SELECT * FROM orders\", engine) #df eh dataframe\n",
    "print(df_orders.shape) #retorna número de linhas e colunas\n",
    "print(df_orders.head()) # retorna 5 primeiros registros\n",
    "print(df_orders.info()) # retorna informações gerais como tipo\n",
    "print(df_orders.describe())\n"
   ]
  },
  {
   "cell_type": "code",
   "execution_count": 9,
   "id": "078ab5c2-5ff4-4399-83f2-0c0297147897",
   "metadata": {},
   "outputs": [
    {
     "name": "stdout",
     "output_type": "stream",
     "text": [
      "0\n"
     ]
    }
   ],
   "source": [
    "print(df_orders.duplicated().sum()) #contar duplicatas"
   ]
  },
  {
   "cell_type": "code",
   "execution_count": 11,
   "id": "3c42c706-cf34-4026-9758-7aaa1ac343fe",
   "metadata": {},
   "outputs": [
    {
     "name": "stdout",
     "output_type": "stream",
     "text": [
      "(103886, 5)\n",
      "                           order_id  payment_sequential payment_type  \\\n",
      "0  b81ef226f3fe1789b1e8b2acac839d17                   1  credit_card   \n",
      "1  a9810da82917af2d9aefd1278f1dcfa0                   1  credit_card   \n",
      "2  25e8ea4e93396b6fa0d3dd708e76c1bd                   1  credit_card   \n",
      "3  ba78997921bbcdc1373bb41e913ab953                   1  credit_card   \n",
      "4  42fdf880ba16b47b59251dd489d4441a                   1  credit_card   \n",
      "\n",
      "   payment_installments  payment_value  \n",
      "0                     8             99  \n",
      "1                     1             24  \n",
      "2                     1             66  \n",
      "3                     8            108  \n",
      "4                     2            128  \n",
      "<class 'pandas.core.frame.DataFrame'>\n",
      "RangeIndex: 103886 entries, 0 to 103885\n",
      "Data columns (total 5 columns):\n",
      " #   Column                Non-Null Count   Dtype \n",
      "---  ------                --------------   ----- \n",
      " 0   order_id              103886 non-null  object\n",
      " 1   payment_sequential    103886 non-null  int64 \n",
      " 2   payment_type          103886 non-null  object\n",
      " 3   payment_installments  103886 non-null  int64 \n",
      " 4   payment_value         103886 non-null  int64 \n",
      "dtypes: int64(3), object(2)\n",
      "memory usage: 4.0+ MB\n",
      "None\n",
      "       payment_sequential  payment_installments  payment_value\n",
      "count       103886.000000         103886.000000  103886.000000\n",
      "mean             1.092679              2.853349     154.109745\n",
      "std              0.706584              2.687051     217.496151\n",
      "min              1.000000              0.000000       0.000000\n",
      "25%              1.000000              1.000000      57.000000\n",
      "50%              1.000000              1.000000     100.000000\n",
      "75%              1.000000              4.000000     172.000000\n",
      "max             29.000000             24.000000   13664.000000\n",
      "order_id                103886\n",
      "payment_sequential      103886\n",
      "payment_type            103886\n",
      "payment_installments    103886\n",
      "payment_value           103886\n",
      "dtype: int64\n"
     ]
    }
   ],
   "source": [
    "import pandas as pd\n",
    "from config import engine\n",
    "\n",
    "df_orders_pay = pd.read_sql(\"SELECT * FROM order_payments\", engine) #df eh dataframe\n",
    "print(df_orders_pay .shape) #retorna número de linhas e colunas\n",
    "print(df_orders_pay .head()) # retorna 5 primeiros registros\n",
    "print(df_orders_pay .info()) # retorna informações gerais como tipo\n",
    "print(df_orders_pay .describe())\n",
    "print(df_orders_pay .count())\n"
   ]
  },
  {
   "cell_type": "code",
   "execution_count": 15,
   "id": "c60c1bdc-42f0-461f-b269-7d83146910f4",
   "metadata": {},
   "outputs": [
    {
     "name": "stdout",
     "output_type": "stream",
     "text": [
      "payment_type\n",
      "credit_card    76795\n",
      "boleto         19784\n",
      "voucher         5775\n",
      "debit_card      1529\n",
      "not_defined        3\n",
      "Name: count, dtype: int64\n",
      "payment_type\n",
      "credit_card    73.922376\n",
      "boleto         19.043952\n",
      "voucher         5.558978\n",
      "debit_card      1.471806\n",
      "not_defined     0.002888\n",
      "Name: proportion, dtype: float64\n"
     ]
    }
   ],
   "source": [
    "print(df_orders_pay['payment_type'].value_counts())\n",
    "\n",
    "print(df_orders_pay['payment_type'].value_counts(normalize=True)*100) #porcentagem "
   ]
  },
  {
   "cell_type": "code",
   "execution_count": null,
   "id": "4648c98d-115a-451c-96f5-388f4ef29821",
   "metadata": {},
   "outputs": [],
   "source": []
  }
 ],
 "metadata": {
  "kernelspec": {
   "display_name": "Python 3 (ipykernel)",
   "language": "python",
   "name": "python3"
  },
  "language_info": {
   "codemirror_mode": {
    "name": "ipython",
    "version": 3
   },
   "file_extension": ".py",
   "mimetype": "text/x-python",
   "name": "python",
   "nbconvert_exporter": "python",
   "pygments_lexer": "ipython3",
   "version": "3.12.4"
  }
 },
 "nbformat": 4,
 "nbformat_minor": 5
}
