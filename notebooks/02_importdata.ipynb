{
 "cells": [
  {
   "cell_type": "code",
   "execution_count": 6,
   "id": "5cdfd84d-9e19-41b1-8f8c-cf1e128b8cf6",
   "metadata": {},
   "outputs": [
    {
     "name": "stdout",
     "output_type": "stream",
     "text": [
      "dados inseridos com sucesso na tabela\n"
     ]
    }
   ],
   "source": [
    "import pandas as pd\n",
    "from config import engine\n",
    "\n",
    "orders = pd.read_csv(\"D:/Pessoal/analise_vendas/data/olist_orders_dataset.csv\")\n",
    "orders.to_sql(\"orders\", con=engine, if_exists=\"append\", index=False)\n",
    "print(\"dados inseridos com sucesso na tabela\")\n"
   ]
  },
  {
   "cell_type": "code",
   "execution_count": 14,
   "id": "90711866-45b5-46a1-b226-932ac54d16bc",
   "metadata": {},
   "outputs": [
    {
     "name": "stdout",
     "output_type": "stream",
     "text": [
      "dados inseridos com sucesso na tabela\n"
     ]
    }
   ],
   "source": [
    "import pandas as pd\n",
    "from config import engine\n",
    "\n",
    "products = pd.read_csv(\"D:/Pessoal/analise_vendas/data/olist_products_dataset.csv\")\n",
    "products.to_sql(\"products\", con=engine, if_exists=\"append\", index=False)\n",
    "print(\"dados inseridos com sucesso na tabela\")"
   ]
  },
  {
   "cell_type": "code",
   "execution_count": 15,
   "id": "f681b372-afa4-4cfd-97f7-b0e30028e32d",
   "metadata": {},
   "outputs": [
    {
     "name": "stdout",
     "output_type": "stream",
     "text": [
      "dados inseridos com sucesso na tabela\n"
     ]
    }
   ],
   "source": [
    "import pandas as pd\n",
    "from config import engine\n",
    "\n",
    "sellers = pd.read_csv(\"D:/Pessoal/analise_vendas/data/olist_sellers_dataset.csv\")\n",
    "sellers.to_sql(\"sellers\", con=engine, if_exists=\"append\", index=False)\n",
    "print(\"dados inseridos com sucesso na tabela\")"
   ]
  },
  {
   "cell_type": "code",
   "execution_count": 19,
   "id": "e98cc418-c5f6-49f3-8409-5f4b489316ae",
   "metadata": {},
   "outputs": [
    {
     "name": "stdout",
     "output_type": "stream",
     "text": [
      "dados inseridos com sucesso na tabela\n"
     ]
    }
   ],
   "source": [
    "import pandas as pd\n",
    "from config import engine\n",
    "\n",
    "geolocation = pd.read_csv(\"D:/Pessoal/analise_vendas/data/olist_geolocation_dataset.csv\")\n",
    "geolocation.to_sql(\"geolocation\", con=engine, if_exists=\"append\", index=False)\n",
    "print(\"dados inseridos com sucesso na tabela\")"
   ]
  },
  {
   "cell_type": "code",
   "execution_count": 21,
   "id": "8ce13592-3e12-410f-bc50-c90d3a2040d4",
   "metadata": {},
   "outputs": [
    {
     "name": "stdout",
     "output_type": "stream",
     "text": [
      "dados inseridos com sucesso na tabela\n"
     ]
    }
   ],
   "source": [
    "import pandas as pd\n",
    "from config import engine\n",
    "\n",
    "order_items = pd.read_csv(\"D:/Pessoal/analise_vendas/data/olist_order_items_dataset.csv\")\n",
    "order_items.to_sql(\"order_items\", con=engine, if_exists=\"append\", index=False)\n",
    "print(\"dados inseridos com sucesso na tabela\")"
   ]
  },
  {
   "cell_type": "code",
   "execution_count": 2,
   "id": "1325b1ff-f30f-41fe-b89a-0eb2df20c226",
   "metadata": {},
   "outputs": [
    {
     "name": "stdout",
     "output_type": "stream",
     "text": [
      "dados inseridos com sucesso na tabela\n"
     ]
    }
   ],
   "source": [
    "import pandas as pd\n",
    "from config import engine\n",
    "\n",
    "order_payments = pd.read_csv(\"D:/Pessoal/analise_vendas/data/olist_order_payments_dataset.csv\")\n",
    "order_payments.to_sql(\"order_payments\", con=engine, if_exists=\"append\", index=False)\n",
    "print(\"dados inseridos com sucesso na tabela\")"
   ]
  },
  {
   "cell_type": "code",
   "execution_count": 4,
   "id": "a334703b-a13b-419c-bfae-ed8e5bf21b00",
   "metadata": {},
   "outputs": [
    {
     "name": "stdout",
     "output_type": "stream",
     "text": [
      "dados inseridos com sucesso na tabela\n"
     ]
    }
   ],
   "source": [
    "import pandas as pd\n",
    "from config import engine\n",
    "\n",
    "order_reviews = pd.read_csv(\"D:/Pessoal/analise_vendas/data/olist_order_reviews_dataset.csv\")\n",
    "order_reviews.to_sql(\"order_reviews\", con=engine, if_exists=\"append\", index=False)\n",
    "print(\"dados inseridos com sucesso na tabela\")"
   ]
  },
  {
   "cell_type": "code",
   "execution_count": null,
   "id": "3f8f58dd-ae04-417d-ab8a-587f4635da9a",
   "metadata": {},
   "outputs": [],
   "source": []
  }
 ],
 "metadata": {
  "kernelspec": {
   "display_name": "Python 3 (ipykernel)",
   "language": "python",
   "name": "python3"
  },
  "language_info": {
   "codemirror_mode": {
    "name": "ipython",
    "version": 3
   },
   "file_extension": ".py",
   "mimetype": "text/x-python",
   "name": "python",
   "nbconvert_exporter": "python",
   "pygments_lexer": "ipython3",
   "version": "3.12.4"
  }
 },
 "nbformat": 4,
 "nbformat_minor": 5
}
